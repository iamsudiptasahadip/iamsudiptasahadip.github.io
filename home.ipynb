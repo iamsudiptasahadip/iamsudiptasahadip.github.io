{
  "nbformat": 4,
  "nbformat_minor": 0,
  "metadata": {
    "colab": {
      "name": "home.ipynb",
      "provenance": []
    },
    "kernelspec": {
      "name": "python3",
      "display_name": "Python 3"
    },
    "language_info": {
      "name": "python"
    }
  },
  "cells": [
    {
      "cell_type": "markdown",
      "source": [
        "<h1> <b> SUDIPTA SAHA </b> </h1> <h3>Undergraduate Student</h3>\n",
        "<br><br>\n",
        "\n",
        "\n",
        "This is Sudipta Saha from Dhaka, Bangladesh, currently pursuing Bachelor's in Computer Science & Engineering at Independent University, Bangladesh.\n",
        "\n",
        "Being a student from CS background, I'm deeply going into analytics and statistics for improving my expertise in the decision-making field. From a wide perspective, I have research interests to merge Software, IoT, and Cloud together according to its digital products so that those can be user friendly and profitable from both the consumer and business ends.\n",
        "\n",
        "I believe humans are one of the most versatile species on earth and as I am born one of the eight billion human beings, I get encouraged to work on human behavior and psychology. So, I am having the necessary knowledge of communication and beyond to analyze consumer behavior and marketing thoughts for up-to-date strategies.\n",
        "\n",
        "<br><br>\n",
        "Phone: +8801 737 018 692 <br>\n",
        "Email: sudip.iub@gmail.com<br>\n",
        "Linked In: [iamsudiptasahadip](https://www.linkedin.com/in/iamsudiptasahadip/) <br>\n",
        "Github: [iamsudiptasahadip](https://github.com/iamsudiptasahadip) <br><br>\n",
        "[Know Beyond Me Here...](https://colab.research.google.com/drive/10DxK5YHaflL1TcWDcKYJObx-BJkaUHfh#scrollTo=D9OpAgsmswn3)\n"
      ],
      "metadata": {
        "id": "pmxhTbu0pKjA"
      }
    }
  ]
}