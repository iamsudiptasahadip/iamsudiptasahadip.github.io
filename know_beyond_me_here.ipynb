{
  "nbformat": 4,
  "nbformat_minor": 0,
  "metadata": {
    "colab": {
      "name": "know_beyond_me_here.ipynb",
      "provenance": []
    },
    "kernelspec": {
      "name": "python3",
      "display_name": "Python 3"
    },
    "language_info": {
      "name": "python"
    }
  },
  "cells": [
    {
      "cell_type": "markdown",
      "source": [
        "**• EDUCATION**<br> \n",
        "Independent University, Bangladesh<br>\n",
        "BSc, Computer Science & Engineering<br>\n",
        "Year: January 2020 - Present<br><br>\n",
        "\n",
        "**• SKILLS**<br>\n",
        "Programming Language: C/C++, Python<br>\n",
        "Web Development: HTML, CSS<br>\n",
        "Computer Literacy: PowerPoint, Word, Excel<br><br>\n",
        "\n",
        "**• EXPERIENCE**<br>\n",
        "Coordinator, Proactive Nerds<br>\n",
        "Instructor, [YouCode C++](http://www.cse.iub.edu.bd/events/48)<br><br>\n",
        "\n",
        "**• ACTIVITIES**<br>\n",
        "IUB ACM STUDENT CHAPTER<br>\n",
        "Public Relations Coordinator, Content Writer<br>\n",
        "Year: October 2021 - Present<br><br>\n",
        "\n",
        "**• ACHIEVEMENTS** <br>\n",
        "Runner Up, Intra-College Programming Competition<br>\n",
        "Year: 2017<br>\n",
        "Regional Contestant - Divisional Phase, Bangladesh Physics Olympiad<br>\n",
        "Year: 2016<br><br>\n",
        "\n"
      ],
      "metadata": {
        "id": "D9OpAgsmswn3"
      }
    }
  ]
}